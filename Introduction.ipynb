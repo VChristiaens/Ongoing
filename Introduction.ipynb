{
 "cells": [
  {
   "cell_type": "markdown",
   "metadata": {},
   "source": [
    "# About this course\n",
    "\n",
    "This course aims at providing you with a *practical* understanding of (some of) the statistical concepts/methods existing to analyse data (how to properly estimate errors, derive trends in data points, ...). For this, we will not only review the theory of data analysis but also spend time in learning to use some existing tools implementing those concepts. We will mostly pick topics among the following:  statistical classical or frequentist inference (i.e. Maximum Likelihood Estimation,  confidence interval via Jackknife and bootstrapping, hypothesis test), Baysian statistical inference (MCMC for confidence interval estimation, model selection). Finally, we will also introduce you to general principles of neural network and machine learning (supervised, unsupervised), giving more a taste of how this works. \n",
    " \n",
    "I know that if you choose to learn physics and astronomy, this was probably not to learn coding. Writing lines of code to execute routine tasks, do complex calculations, dig into large databases or simply analyze data is however part of astronomer's (and physicist's) life. The idea of this class is to provide you with a *toolbox* into which you will pick tools to extract all the relevant information from the data you have in hands. It is not only sufficient to know where is a tool! We want to understand how to use them correctly and understand the concepts that make them such powerful ! \n",
    " \n",
    "In those notebooks, you will often see a few lines starting with \"**Notes**\". Those notes can generally be skipped at first lecture, but may become more insightful when the reader (you !) is already familiar with the topic covered by the main text. \n",
    "\n",
    "These notebooks may evolve with time. Any comment, suggestions are welcome, in order to improve your learning experience and the one of the others.  \n",
    "\n",
    "\n",
    "## This course in practice\n",
    "\n",
    "These Notebooks are saved on a [github repository](https://github.com/SPAT0002-1/) (`repos`).\n",
    "\n",
    "The best way to use these notebooks consists in using `git` to download the repository and then update your local copy. This is not difficult. A very good introduction to git can be found here:  https://swcarpentry.github.io/git-novice/ or https://github.com/drphilmarshall/GettingStarted#top (the latter link even includes a link to a youtube video). Since git does not require an external repository, you can use this \"system versioning\" tool to track any of your project on your computer. This works for a code, but also for e.g. a paper or a thesis you are writing. Instruction for onstalling git can be found at https://git-scm.com/book/en/v2/Getting-Started-Installing-Git. \n",
    "\n",
    "\n",
    "### First Lecture \n",
    "\n",
    "In practice, to be up-to date with the lectures, you will end up typing the following commands in a terminal:\n",
    "\n",
    "The First time: (Terminal commands for Linux or Mac OS)\n",
    "```shell\n",
    "mkdir SPAT0002   # create a directory to save a local copy of the repository\n",
    "cd SPAT0002      # move into that directory\n",
    "git clone https://github.com/SPAT0002-1/Lectures_20XX-20YY.git   # UPDATE - replace XX and YY with the years of interest\n",
    "cd Lectures_20XX-20YY\n",
    "```\n",
    "### At the start of a lecture \n",
    "\n",
    "For simplicity, you should take the habit the *COPY* and *RENAME* the notebook with which we will be working, so you clearly identify your **own** version of the notebook into which you can add notes of any kind. For instance, if the notebook on which we work on is names `notebook.ipynb`, you may copy it into `notebook_MYNAME.ipynb`. \n",
    "\n",
    "### Before another lecture\n",
    "\n",
    "Another day, when you know that the course repository has been updated, you *go into the directory containing your repository*. (But see [Notes](#Notes:) about possible error message you may encounter during subsequent `pull`). \n",
    "\n",
    "``` shell\n",
    "git pull\n",
    "```\n",
    "\n",
    "Then, you may launch the `Index.ipynb` notebook into a Jupyter notebook using the following command into a terminal: \n",
    "\n",
    "``` shell\n",
    "\n",
    "jupyter-notebook Index.ipynb\n",
    "```\n",
    "From there, we will access the notebook of the lecture. If you want to keep your own version, do not forget to make a copy of the notebook as explained [here](#At-the-start-of-a-lecture)\n",
    "\n",
    "To go beyond this, you may need to learn some more command-lines or use a `git-client` with a nice GUI (`Graphical User Interface)`. Even if more user friendly, this does not provide you to understand how git is working behind the scene ....    \n",
    "Various clients (free or not) exist. You might be interested in gitkraken, GithubDesktop, SourceTree, ... There are a lot of webpages describing pro and cons of alternative clients. "
   ]
  },
  {
   "cell_type": "markdown",
   "metadata": {},
   "source": [
    "### Notes: \n",
    "1. If there is an update to a file that you already modified, you'll encounter an error message because the state of the file is different on the remote repository and on your local directory. The best thing to do is to rename the conflicting files if you want to keep them in their previous version (e.g. you are commenting the notebook on which we are working on). An alternative is to \"stash\" your local repos using `git stash`  (https://git-scm.com/book/en/v1/Git-Tools-Stashing) **BUT beware**, `git stash` will stash any modified version of a file that is also present on the remote repository (no only the files that are yielding an error message after your `git pull`). There is a possibility to restore stashed files (using `git stash apply`) but things can sometimes get tricky...  \n",
    "\n",
    "2. If you work on a specific project, you can use git locally without any remote set up.\n",
    "\n",
    "A typical set of command would then be: \n",
    "``` shell \n",
    "mkdir myworking_directory\n",
    "git init # the first time you run git for that directory \n",
    "echo 'Hello' > file.txt # edit your own file\n",
    "git commit 'Initial commit'\n",
    "git push \n",
    "```\n",
    "\n",
    "See https://swcarpentry.github.io/git-novice/04-changes/index.html  for a first try ! \n",
    "For the course, you may want to create a separate copy of each notebook. A more professional option is to create a working branch into which you'll keep your own modifications of the lecture. \n",
    "\n",
    "## References: \n",
    "\n",
    "* Introduction to git:  https://swcarpentry.github.io/git-novice/\n",
    "* Another introduction to git: https://github.com/drphilmarshall/GettingStarted#top \n",
    "* Git/Github Cheat Sheet:  https://education.github.com/git-cheat-sheet-education.pdf"
   ]
  },
  {
   "cell_type": "code",
   "execution_count": null,
   "metadata": {},
   "outputs": [],
   "source": []
  }
 ],
 "metadata": {
  "kernelspec": {
   "display_name": "Python 3 (ipykernel)",
   "language": "python",
   "name": "python3"
  },
  "language_info": {
   "codemirror_mode": {
    "name": "ipython",
    "version": 3
   },
   "file_extension": ".py",
   "mimetype": "text/x-python",
   "name": "python",
   "nbconvert_exporter": "python",
   "pygments_lexer": "ipython3",
   "version": "3.9.10"
  }
 },
 "nbformat": 4,
 "nbformat_minor": 4
}
