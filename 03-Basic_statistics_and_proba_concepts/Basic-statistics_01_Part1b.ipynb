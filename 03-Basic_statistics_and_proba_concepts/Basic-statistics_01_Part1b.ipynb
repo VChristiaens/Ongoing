{
 "cells": [
  {
   "cell_type": "markdown",
   "metadata": {},
   "source": [
    "# Classical Statistical Inference: Part 1b"
   ]
  },
  {
   "cell_type": "markdown",
   "metadata": {},
   "source": [
    "## Table of Content:\n",
    "\n",
    "- I. [Basic probability concepts](Basic-statistics_01_Part1a.ipynb/#I)    \n",
    "    * I.1 [Probability Axioms](Basic-statistics_01_Expanded.ipynb)\n",
    "    * I.2 [What is a random variable ?](Basic-statistics_01_Part1a.ipynb/#I.2-What-is-a-random-variable-?)\n",
    "    * I.3 [What is a conditional probability $p(A|B)p(A | B)$ and Bayes theorem ?](Basic-statistics_01_Part1a.ipynb/#I.3-What-is-a-conditional-probability-$p(A-|-B)$-and-Bayes-theorem?)\n",
    "    * I.4 [What is a probability density function ?](#pdf)\n",
    "    * I.4b [Bivariate PDF](#bivariate)\n",
    "    * I.5 [What is a cumulative distribution function ?](#I.5-What-is-a-cumulative-distribution-function-?)\n",
    "    * I.6 [Working with pdf and CDF](#I.6-Working-with-pdf-and-CDF):\n",
    "        - I.6.1 [Generate random samples drawn from a specific distribution](#I.6.1-Generate-random-samples-/-Monte-Carlo-methods:)\n",
    "        - I.6.2 [Fit Parameters of specific distributions](#I.6.2-Fit-for-parameters-of-specific-distributions:)\n",
    "        - I.6.3 [Calculate statistical quantities associtated to a distribution](#I.6.3-Calculate-statistical-quantities-associated-to-a-distribution)\n",
    "\n",
    "\n",
    "- [Descriptive statistics](#Intermezo:-Descriptive-statistics)\n",
    "    * To review the **properties of probability distribution functions** (mean, standard deviation, variance, skewness, ...), go to the notebook [Descriptive_statistics_01.ipynb](Descriptive_statistics_01.ipynb).    \n",
    "    * To **better understand visually the link between PDF and CDF**, and do an interactive tour of the characteristics and properties of **common distributions** encountered in science, then, run the Notebook [Descriptive_statistics_02.ipynb](Descriptive_statistics_02.ipynb). \n",
    "\n",
    "- X. [References and supplementary material](#X)"
   ]
  },
  {
   "cell_type": "code",
   "execution_count": 1,
   "metadata": {},
   "outputs": [],
   "source": [
    "# Modules to be used in this notebook\n",
    "import numpy as np\n",
    "import scipy.stats\n",
    "import matplotlib.pyplot as plt\n",
    "import matplotlib.gridspec as gridspec\n",
    "%matplotlib inline"
   ]
  },
  {
   "cell_type": "markdown",
   "metadata": {},
   "source": [
    "See [Basic-statistics_01_Part1a.ipynb](Basic-statistics_01_Part1a.ipynb) for the motivation and definitions. "
   ]
  },
  {
   "cell_type": "markdown",
   "metadata": {},
   "source": [
    "### I.4 What is a probability density function ? <a class=\"anchor\" id=\"pdf\"></a>\n",
    "\n",
    "We will generally be dealing with probability *densities*, that is, $p(x)\\,\\rm{d}x$ is the probability of a value falling between $x$ and $x \\,+\\, {\\rm{d}}x$.\n",
    "\n",
    "Remember the histogram, counting your measurements (cf exercise on [coin toss](#Exercise:-Coin-toss)  above), setting the density to `True`. You have $\\sum p(x) \\delta x = 1$ (where $\\delta x$ = bin width). This is a probability density function (effectively a probability mass function because you work with discrete variables).      \n",
    "\n",
    "Probability densities are normalized such that the union of all possible events has a probability of unity; mathematically that criterion looks like this:\n",
    "\n",
    "$$\n",
    "\\int p(x)\\,{\\rm{d}}x = 1\n",
    "$$\n",
    "\n",
    "Among other things, consider the **units** implied by this expression: because probability is dimensionless, the *units of $p(x)$* must be the *inverse of the units of $x$*.\n",
    "This can be very useful to keep in mind as you manipulate probabilistic expressions!\n",
    "\n",
    "If the concept of PDF was not aleady clear to you, check Section I.4 of the [expanded version](Basic-statistics_01_Expanded.ipynb) of this Notebook to look at the more formal definition of the pdf. "
   ]
  },
  {
   "cell_type": "markdown",
   "metadata": {},
   "source": [
    "**Examples:**    \n",
    "You know several pdf, such as the *uniform* and the *normal* (aka gaussian) pdf.  \n",
    "\n",
    "- A *uniform* pdf is such that:\n",
    "\n",
    "$$\n",
    "\\begin{array} \\\\ \n",
    "   h(x)    & = \\frac{1}{b-a} \\,\\, {\\rm{if}}\\,a\\,\\leq\\,x\\,\\leq\\,b \\\\\n",
    "   h(x)    & = 0 \\,\\,\\, {\\rm{otherwise} }  \\\\\n",
    "\\end{array}\n",
    "$$\n",
    "\n",
    "- The gaussian pdf of mean $\\mu$ and standard deviation $\\sigma$ is:\n",
    "\n",
    "$$\n",
    "h(x ; \\mu, \\sigma) = \\frac{1}{\\sqrt{2\\pi}\\,\\sigma} \\exp \\left( -\\frac{1}{2}\\frac{(x-\\mu)^2}{\\sigma^2}\\right)\n",
    "$$\n",
    "\n",
    "It is important to keep in mind that, as a probability can't be larger than 1, the integral of $h(x)$ over that integration domain has to be 1, otherwise we do not have a properly normalised pdf. This explains the  normalisation $1/\\sqrt{2\\pi}\\,\\sigma$ in front of of the gaussian pdf. \n",
    "\n",
    "- In cases where random variables are **discrete**, one rather speaks of **probability mass function** (pmf). In this case, $X$ may take a (finite) number of values ${x_1, x_2, ..., x_n}$ and the mass function is simply:\n",
    "$$\n",
    "h_X(x) = p(X\\,=\\,x)\n",
    "$$\n",
    "\n",
    "The *Poisson* or *Bernouilli* distribution are examples of pmf. \n"
   ]
  },
  {
   "cell_type": "markdown",
   "metadata": {},
   "source": [
    "#### Relevance of pdf for statistical inference:\n",
    "\n",
    "Probability density function is at the heart of data mining, and data analysis in general. A key question is indeed to figure out what is the pdf $h_X(x)$ that is behind a set of random variables (directly observed or predicted by a model fed by some data). I.e. we generally try to answer the question \"From which pdf $h(x)$ are drawn my $x$ ?\". In Bayesian inference, one tries to derive the (posterior) pdf associated to a quantity. Why are we interested by those ? Because they tell us something about the probability of an event/observation to occur or help us to figure out whether a physical model is sensible *given* the observations in hands.  \n",
    "\n",
    "\n",
    "Following the convention of our [reference book](#book), we use $h(x)$ when we refer to the *true* pdf (or **population** pdf), and $f(x)$ when we refer to its *data* derived estimate (**empirical** pdf). Since $x$ are generally measured with errors, it may be that $f(x)$ does not tend to $h(x)$ even for an infinite number of measurements (we end up with a \"blurred\" or \"broadened\" version of the pdf). Because $h(x)$ gives the probability that $x$ falls in an (infinitely) small interval $x, x+{\\rm{d}}x$, the pdf is also sometimes written $p(x)$ (cf Chapter 3 of our [reference book](#book)). \n",
    "\n",
    "As we said, $f(x)$ is a *model* of the *true* distribution $h(x)$. We observe data points that are *samples* of the true distribution $h(x)$. In general, we do not know $h(x)$ and we have to guess its functional form. This function form can either be \"parametric\" (e.g. a gaussian) or \"non parametric\" (e.g. a sum of small gaussians that mimic a more complex pdf). "
   ]
  },
  {
   "cell_type": "markdown",
   "metadata": {},
   "source": [
    "**Examples of pdf in scientific papers:**\n",
    "\n",
    "- Marginalised pdf on H0 in Fig. 4 Bonvin et al. 2017 http://arxiv.org/abs/1607.01790 \n",
    "![ima](../Figures/HOLICOW_pdf.png)\n",
    "- 2D PDF on pairs of gravitational lensing parameters in Fig. 7 of Hartley et al. 2019 http://arxiv.org/abs/1901.05791v1 \n",
    "- Probability Density Function for frequency of Jovian-mass planets around intermediate-mass stars interiorto∼3 AU: Figure 13 of Bowler et al. 2009 https://arxiv.org/abs/0912.0518 "
   ]
  },
  {
   "cell_type": "markdown",
   "metadata": {},
   "source": [
    "#### Python implementation\n",
    "\n",
    "A large number of distribution functions are implemented in `scipy.stats`, such as the binomial distribution, poisson distribution, gaussian distribution, chi2, Cauchy distribution, ... To use them you simply have to:     \n",
    "\n",
    "**Method 1**\n",
    "\n",
    "You work in two steps. It allows you to calculate multiple quantities associated to a distribution. \n",
    "\n",
    "- 1) **Create an instance of an object \"distribution\"** with some fixed parameters:    \n",
    "e.g. \n",
    "\n",
    "``` python\n",
    "# Create a gaussian function with parameters mu=0, sigma=2\n",
    "g = scipy.stats.norm(0, 2)  \n",
    "\n",
    "# Poisson distribution for 10 events\n",
    "pois = scipy.stats.poisson(10)  \n",
    "```\n",
    "\n",
    "**Note:** The help of `scipy` distribution generally refers to the `loc` and `scale` keywords associated to the distribution. The `loc` corresponds to the `mean` (i.e. expectation value of order 1 moment) and the `scale` corresponds to the `standard deviation`. "
   ]
  },
  {
   "cell_type": "code",
   "execution_count": 2,
   "metadata": {},
   "outputs": [],
   "source": [
    "g = scipy.stats.norm(0, 2)   # Equivalently use: g = scipy.stats.norm(loc=0, scale=2.)"
   ]
  },
  {
   "cell_type": "markdown",
   "metadata": {},
   "source": [
    "- 2) Calculate **properties associated to (the instance of) this object** using a set of *specific methods*. For the pdf, use the method pdf: \n",
    "\n",
    "``` python\n",
    "# Evaluate the pdf / pmf associated to our objects g / pois at \"position\" x / k\n",
    "\n",
    "g_pdf = g.pdf(x) # x is either a numpy array or a specific value\n",
    "\n",
    "pois_pmf = pois.pmf(k)  # k is an array of integers or a specific value\n",
    "```\n",
    "\n",
    "**Method 2**\n",
    "\n",
    "You can generate a `pdf` associated to a normal distribution with a single command line: \n",
    "\n",
    "``` python \n",
    "x = np.arange(-10,10,0.1) # Create an array over which you want to evaluate the pdf\n",
    "\n",
    "y = scipy.stats.norm.pdf(x, loc=0, scale=2)   # for a gaussian of mean mu=0, sigma=2\n",
    "```\n"
   ]
  },
  {
   "cell_type": "code",
   "execution_count": 6,
   "metadata": {},
   "outputs": [
    {
     "data": {
      "text/plain": [
       "[<matplotlib.lines.Line2D at 0xa5f9be2b0>]"
      ]
     },
     "execution_count": 6,
     "metadata": {},
     "output_type": "execute_result"
    },
    {
     "data": {
      "image/png": "[encoded data removed]",
      "text/plain": [
       "<matplotlib.figure.Figure at 0xa5f91d860>"
      ]
     },
     "metadata": {},
     "output_type": "display_data"
    }
   ],
   "source": [
    "# Use this cell to plot the pdf associated with the gaussian distribution you have generated above"
   ]
  },
  {
   "cell_type": "code",
   "execution_count": 7,
   "metadata": {},
   "outputs": [
    {
     "data": {
      "text/plain": [
       "[<matplotlib.lines.Line2D at 0xa5fc36208>]"
      ]
     },
     "execution_count": 7,
     "metadata": {},
     "output_type": "execute_result"
    },
    {
     "data": {
      "image/png": "[encoded data removed]",
      "text/plain": [
       "<matplotlib.figure.Figure at 0xa5f9479e8>"
      ]
     },
     "metadata": {},
     "output_type": "display_data"
    }
   ],
   "source": [
    "# Let's now do it for a probability mass function "
   ]
  },
  {
   "cell_type": "markdown",
   "metadata": {},
   "source": [
    "Other properties of the object (mean, std, moments, ...) can be calculated as we will see later. It is also possible to draw a random sample that follows the distribution we want to use using `scipy.stats.distribution.rvs()`:\n",
    "``` python\n",
    "# Generate a sample of 1000 points drawn from a gaussian distrib:\n",
    "g_sample = g.rvs(1000)  \n",
    "\n",
    "# Generate a sample of 10 points drawn from a poisson distrib:\n",
    "pois_sample = pois.rvf(10) \n",
    "```\n",
    "\n",
    "See Sect. 3.2 of our reference [book](#book) for an overview of the main distributions implemented in scipy. "
   ]
  },
  {
   "cell_type": "markdown",
   "metadata": {},
   "source": [
    "**Exercises:** \n",
    "\n",
    "- Generate a random sample of n points drawn from the gaussian distribution you defined above. (compare n=10, 100, 1000)\n",
    "- Plot an histogram with the sample of points you have generated. \n",
    "- Plot a canonical gaussian pdf (width =1) and overplot an horizontal line showing its FWHM. \n",
    "- Print at the screen the value of the FWHM and compare the value you expect for a canonical 1D-gaussian (FWHM $= 2 * \\sqrt{2 * \\ln(2)} * \\sigma $) \n",
    "\n",
    "TIP: Keep the expression of the FWHM of a Gaussian in mind, you may have to use it often. "
   ]
  },
  {
   "cell_type": "code",
   "execution_count": null,
   "metadata": {},
   "outputs": [],
   "source": [
    "# Use this cell to generate a random sample of points drawn from the gaussian distribution you defined above\n"
   ]
  },
  {
   "cell_type": "code",
   "execution_count": null,
   "metadata": {},
   "outputs": [],
   "source": [
    "# ploting the histogram \n"
   ]
  },
  {
   "cell_type": "code",
   "execution_count": null,
   "metadata": {},
   "outputs": [],
   "source": [
    "# Illustration of a canonical gaussian pdf and overplot of a line showing its FWHM \n"
   ]
  },
  {
   "cell_type": "code",
   "execution_count": null,
   "metadata": {},
   "outputs": [],
   "source": []
  },
  {
   "cell_type": "markdown",
   "metadata": {},
   "source": [
    "### I.4b pdf, conditional probability and Bayes rule for bivariate distributions:  <a class=\"anchor\" id=\"bivariate\"></a>\n",
    "\n",
    "When we have 2 *continuous random variables*, we can write: \n",
    "    \n",
    "$$\n",
    "p(x,y) = p(x\\,|\\,y) \\, p(y) = p(y\\,|\\,x) \\, p(x)\n",
    "$$\n",
    "\n",
    "Such a distribution of 2 random variable is called a **bivariate distribution**. \n",
    "\n",
    "The *marginal probability* $p(x)$ (resp $p(y)$) is obtained by integrating $p(x, y)$ over all the probabilities to have obtained $y$ (resp $x$): \n",
    "\n",
    "$$\n",
    "p(x) = \\int p(x,y) \\, {\\rm d}y \n",
    "$$\n",
    "$$\n",
    "p(y) = \\int p(x,y) \\, {\\rm d}x\n",
    "$$\n",
    "\n",
    "Hence, we have: \n",
    "\n",
    "$$\n",
    "p(x)= \\int p(x\\,|\\,y) \\, p(y)  \\, {\\rm d}y\n",
    "$$\n",
    "\n",
    "$$\n",
    "p(y\\,|\\,x) = \\frac{p(x\\, | \\, y) \\, p(y)}{p(x)} = \\frac{p(x\\, | \\, y) \\, p(y)}{\\int p(x\\,|\\,y) \\, p(y)  \\, {\\rm d}y}  \n",
    "$$\n",
    "\n",
    "For a non continuous variable (let's say ${y_j}$ with $j=1, ..., M$), the integral becomes a sum:\n",
    "\n",
    "$$\n",
    "p(y_j\\,|\\,x) = \\frac{p(x\\, | \\, y_j) \\, p(y_j)}{p(x)} = \\frac{p(x\\, | \\, y_j) \\, p(y_j)}{\\sum_{j=1}^M \\, p(x\\,|\\,y_j) \\, p(y_j) }  \n",
    "$$"
   ]
  },
  {
   "cell_type": "markdown",
   "metadata": {},
   "source": [
    "For bi-(multi-)variate distributions, $p(x,y)$, one also defines the **covariance** (assume $<x>\\,=\\,<y>\\,=\\,0$):\n",
    "\n",
    "$$\n",
    "Cov(x,y) = <xy> = \\int_{-\\infty}^{+\\infty}\\int_{-\\infty}^{+\\infty} x y\\,p(x,y) \\, \\rm{d}x\\rm{d}y\n",
    "$$\n",
    "\n",
    "We can also define a dimensionless **correlation coefficient** (assuming zero mean): \n",
    "\n",
    "$$\n",
    "r = \\frac{<xy>}{\\sqrt{<x^2><y^2>}} . \n",
    "$$\n",
    "\n",
    "if $r = 1$ ($r = -1$) the two RV are (anti-)correlated, and independent if $r=0$. \n",
    "We will rediscuss the correlation and the covariance later. \n",
    "\n",
    "#### Example\n",
    "\n",
    "Use of `scipy.stats.multivariate_normal()` for a multivariate **gaussian** distribution. See [below](#I.4c-Multivariate-normal-distribution) for more details. "
   ]
  },
  {
   "cell_type": "code",
   "execution_count": 3,
   "metadata": {},
   "outputs": [
    {
     "data": {
      "text/plain": [
       "Text(0.5, 1.0, '$p(x | y =0.50 )$')"
      ]
     },
     "execution_count": 3,
     "metadata": {},
     "output_type": "execute_result"
    },
    {
     "data": {
      "image/png": "[encoded data removed]",
      "text/plain": [
       "<Figure size 1440x360 with 3 Axes>"
      ]
     },
     "metadata": {
      "needs_background": "light"
     },
     "output_type": "display_data"
    }
   ],
   "source": [
    "step = 0.01\n",
    "x, y = np.arange(-6.,6.,step), np.arange(-6,6.,step)\n",
    "X, Y = np.meshgrid(x,y)\n",
    "# X, Y = np.mgrid[-6:6:.01, -6:6:.01]    # Alternative command to generate a meshgrid!\n",
    "# I now create a 3D array containing the X and Y coordinates\n",
    "pos = np.zeros(X.shape + (2,))   \n",
    "pos[:, :, 0] = X\n",
    "pos[:, :, 1] = Y\n",
    "\n",
    "# Non isotropic bivariate normal distribution\n",
    "# Warning: we give elements of the covariance matrix! \n",
    "n_2d = scipy.stats.multivariate_normal(mean=[1.5, 0.], cov=[[2.0, 0.3], [0.3, 0.5]])\n",
    "f, ax = plt.subplots(figsize=(20,5), ncols=3)\n",
    "ax[0].contourf(X, Y, n_2d.pdf(pos))\n",
    "ax[0].set_aspect('equal')  # same unit length along x and y \n",
    "\n",
    "# Calculates the marginal pdf\n",
    "ax[1].plot(y, n_2d.pdf(pos).sum(axis=1) * step )   # I sum over the x axis \n",
    "ax[1].set_title('Marginal pdf: $p(y)$')\n",
    "\n",
    "# Plot p(y | x=xval) where xval = 1 \n",
    "# define xid: index of xarray for which I want to know the conditional pdf p(y | x)\n",
    "#xid = 800\n",
    "#ax[0].vlines(x[xid]-step/2., -6, 6, color='red')\n",
    "#ax[2].plot(y, n_2d.pdf(pos)[:, xid]   / (n_2d.pdf(pos).sum(axis=0)[xid] * step)) # Note the renormalisation by p(x) at x=xid\n",
    "#ax[2].set_title('$p(y | x =%.2f )$'%x[xid])\n",
    "\n",
    "# Plot p(x | y=yval) where yval = 0.5\n",
    "yid = 650   # y = 0.5\n",
    "ax[0].hlines(y[yid]-step/2., -6, 6, color='red')\n",
    "ax[2].plot(x, n_2d.pdf(pos)[yid, :]   / (n_2d.pdf(pos).sum(axis=1)[yid] * step) ) # Note the renormalisation by p(y) at y=yid\n",
    "ax[2].set_title('$p(x | y =%.2f )$'%y[yid])"
   ]
  },
  {
   "cell_type": "code",
   "execution_count": 5,
   "metadata": {
    "tags": []
   },
   "outputs": [
    {
     "data": {
      "text/plain": [
       "Text(0.5, 1.0, '$p(x | y =0.50 )$')"
      ]
     },
     "execution_count": 5,
     "metadata": {},
     "output_type": "execute_result"
    },
    {
     "data": {
      "image/png": "[encoded data removed]",
      "text/plain": [
       "<Figure size 504x504 with 3 Axes>"
      ]
     },
     "metadata": {
      "needs_background": "light"
     },
     "output_type": "display_data"
    }
   ],
   "source": [
    "# A nicer visualisation \n",
    "fig = plt.figure(figsize=(7, 7))\n",
    "ax = gridspec.GridSpec(\n",
    "    2, 2, width_ratios=[2, 1], height_ratios=[2, 1])\n",
    "\n",
    "ax0 = plt.subplot(ax[0])\n",
    "col_ax0 = ax0.contourf(X, Y, n_2d.pdf(pos))\n",
    "ax0.set_aspect('equal')  # same unit length along x and y \n",
    "ax0.hlines(y[yid]-step/2., -6, 6, color='red')\n",
    "\n",
    "# plot the marginal pdf\n",
    "ax1 = plt.subplot(ax[1])\n",
    "ax1.plot(n_2d.pdf(pos).sum(axis=1) * step, y)   # I sum over the x axis  ; I inverse x and y for plotting\n",
    "ax1.set_title('Marginal pdf: $p(y)$')\n",
    "\n",
    "# Plot p(x | y=yval) where yval = 0.5\n",
    "yid = 650   # y = 0.5\n",
    "ax2 = plt.subplot(ax[2])\n",
    "ax2.plot(x, n_2d.pdf(pos)[yid, :]   / (n_2d.pdf(pos).sum(axis=1)[yid] * step), color='red') # Note the renormalisation by p(y) at y=yid\n",
    "ax2.set_title('$p(x | y =%.2f )$'%y[yid])\n",
    "\n",
    "# Plot colorbar in axis3  - does not display too nicely\n",
    "#ax3 = plt.subplot(ax[3])\n",
    "#ax3.set_visible(False)  # clear the axis \n",
    "#cbar = fig.colorbar(col_ax0, )\n",
    "#cbar.ax.set_ylabel('density: $p(x, xy)$', fontsize=13)"
   ]
  },
  {
   "cell_type": "markdown",
   "metadata": {},
   "source": [
    "### I.4c Multivariate normal distribution \n",
    "\n",
    "In fact, one can generalise the bivariate normal distribution (or gaussian distribution: we use both names) to $n$ dimension. A multivariate normal distribution represents a distribution of a multivariate RV that is made up of multiple RV that can be correlated with each other. This multivariate normal distribution is best writen using matrix formalism. It is characterised by the mean vector $\\mathbf{\\mu}$, which is the expected value of the distribution; and the covariance matrix $\\Sigma$, which measures how dependent random variables are and how they change together. \n",
    " \n",
    "The multivariate normal with dimensionality $d$ has a joint probability density given by:\n",
    "\n",
    "$$\n",
    "p(\\mathbf{x} \\mid \\mathbf{\\mu}, \\Sigma) = \\frac{1}{\\sqrt{(2\\pi)^d \\lvert\\Sigma\\rvert}} \\exp{ \\left( -\\frac{1}{2}(\\mathbf{x} - \\mathbf{\\mu})^T \\Sigma^{-1} (\\mathbf{x} - \\mathbf{\\mu}) \\right)}\n",
    "$$\n",
    " \n",
    "Where $\\mathbf{z}$ a random vector of size $d$, $\\mathbf{\\mu}$ is the mean vector, $\\Sigma$ is the symmetric and positive definite covariance matrix (of size $d \\times d$), and $\\lvert\\Sigma\\rvert$ its determinant. We denote this multivariate normal distribution as: \n",
    "\n",
    "$$\n",
    "\\mathcal{N}(\\mathbf{\\mu}, \\Sigma)\n",
    "$$\n",
    "\n",
    "The the distribution is a multivariate gaussian, the marginal and conditional distributions are also gaussian. \n",
    "\n",
    "In the case of a 2D multivariate normal distribution, we have: \n",
    "$$\n",
    "\\begin{bmatrix}\n",
    "\\mathbf{x_1} \\\\\n",
    "\\mathbf{x_2} \n",
    "\\end{bmatrix}\n",
    "\\sim\n",
    "\\mathcal{N}\\left(\n",
    "\\begin{bmatrix}\n",
    "\\mu_{\\mathbf{x_1}} \\\\\n",
    "\\mu_{\\mathbf{x_2}}\n",
    "\\end{bmatrix},\n",
    "\\begin{bmatrix}\n",
    "\\Sigma_{11} & \\Sigma_{12} \\\\\n",
    "\\Sigma_{12}^T & \\Sigma_{22}\n",
    "\\end{bmatrix}\n",
    "\\right)\n",
    "= \\mathcal{N}(\\mu, \\Sigma)\n",
    ", \\qquad \n",
    "\\Sigma^{-1} = \\Lambda = \n",
    "\\begin{bmatrix}\n",
    "\\tilde{\\Sigma_{11}} & \\tilde{\\Sigma_{12}} \\\\\n",
    "\\tilde{\\Sigma_{12}}^T & \\tilde{\\Sigma_{22}}\n",
    "\\end{bmatrix}\n",
    "$$\n",
    "\n",
    "The marginal distributions of each component $\\mathbf{x}$ and $\\mathbf{y}$ are defined as: \n",
    "\n",
    "$$\n",
    "\\begin{split}\n",
    "p(\\mathbf{x_1}) & = \\mathcal{N}(\\mu_{\\mathbf{x_1}}, \\Sigma_{11}) \\\\\n",
    "p(\\mathbf{x_2}) & = \\mathcal{N}(\\mu_{\\mathbf{x_2}}, \\Sigma_{22})\n",
    "\\end{split}\n",
    "$$\n"
   ]
  },
  {
   "cell_type": "code",
   "execution_count": 6,
   "metadata": {
    "tags": []
   },
   "outputs": [],
   "source": [
    "# We can check this out using the same example as above, using linear algebra capabilities of numpy\n",
    "d = 2  # dimensions\n",
    "mean = np.matrix([[1.5], [0]])  # vector with (0, 0.5) as a column   \n",
    "cov = np.matrix([ \n",
    "    [2.0, 0.3], \n",
    "    [0.3, 0.5]\n",
    "])\n",
    "\n",
    "# Get the mean values from the vector\n",
    "mean_x1 = mean[0,0]\n",
    "mean_x2 = mean[1,0]\n",
    "# Get the blocks (single values in this case) from \n",
    "#  the covariance matrix\n",
    "sigma_11 = cov[0, 0]\n",
    "sigma_22 = cov[1, 1]\n",
    "sigma_12 = cov[0, 1]  # = sigma_12 transposed in this case"
   ]
  },
  {
   "cell_type": "code",
   "execution_count": 7,
   "metadata": {
    "tags": []
   },
   "outputs": [
    {
     "data": {
      "text/plain": [
       "<matplotlib.legend.Legend at 0x183595c50>"
      ]
     },
     "execution_count": 7,
     "metadata": {},
     "output_type": "execute_result"
    },
    {
     "data": {
      "image/png": "[encoded data removed]",
      "text/plain": [
       "<Figure size 432x288 with 1 Axes>"
      ]
     },
     "metadata": {
      "needs_background": "light"
     },
     "output_type": "display_data"
    }
   ],
   "source": [
    "# marginal pdf p(y) -here y is equivalent to x2\n",
    "# Numerical estimate \n",
    "plt.plot(y, n_2d.pdf(pos).sum(axis=1) * step, label='Definition')\n",
    "\n",
    "# \"theory\" pdf \n",
    "# /!\\ Beware: if using scipy.stats.norm(): the second argument is the std \n",
    "# For multivariate we have the cov matrix whose diagonal elements are the var = std**2 \n",
    "#py_marginal_1d = scipy.stats.norm(mean_x2, np.sqrt(sigma_22))\n",
    "# plt.plot(y, py_marginal_1d.pdf(y))\n",
    "\n",
    "py_marginal = scipy.stats.multivariate_normal(mean_x2, sigma_22)\n",
    "plt.plot(y, py_marginal.pdf(y), label='Formula')\n",
    "plt.title(\"Marginal pdf p(y)\")\n",
    "plt.legend()"
   ]
  },
  {
   "cell_type": "markdown",
   "metadata": {},
   "source": [
    "\n",
    "The **conditional distribution** of $\\mathbf{x_1}$ given $\\mathbf{x_2}$ is defined as: \n",
    "\n",
    "$$\n",
    "p(\\mathbf{x_1} \\mid \\mathbf{x_2}) = \\mathcal{N}(\\mu_{x_1|x_2}, \\Sigma_{x_1|x_2})\n",
    "$$\n",
    "\n",
    "With mean:\n",
    "\n",
    "$$\n",
    "\\mu_{x_1|x_2} = \\mu_{x1} - \\Sigma_{12} \\Sigma_{22}^{-1} \\left(x_2 -\\mu_{x2}\\right)\n",
    "$$\n",
    "\n",
    "and covariance matrix\n",
    "\n",
    "$$\n",
    "\\Sigma_{x1|x2} = \\Sigma_{11}-\\Sigma_{12}\\Sigma_{22}^{-1}\\Sigma_{21}\n",
    "$$\n",
    "\n",
    "\n",
    "with $\\Sigma_{11}-\\Sigma_{12}\\Sigma_{22}^{-1}\\Sigma_{21}$ being the [Schur complement](https://en.wikipedia.org/wiki/Schur_complement) of $\\Sigma_{22}$ (note that in that expression, we have also made use of $\\Sigma^T_{12} = \\Sigma_{21}$). "
   ]
  },
  {
   "cell_type": "code",
   "execution_count": 9,
   "metadata": {
    "tags": []
   },
   "outputs": [
    {
     "data": {
      "text/plain": [
       "<matplotlib.legend.Legend at 0x1836541d0>"
      ]
     },
     "execution_count": 9,
     "metadata": {},
     "output_type": "execute_result"
    },
    {
     "data": {
      "image/png": "[encoded data removed]",
      "text/plain": [
       "<Figure size 432x288 with 1 Axes>"
      ]
     },
     "metadata": {
      "needs_background": "light"
     },
     "output_type": "display_data"
    }
   ],
   "source": [
    "# Calculate p(x|y=0.5)\n",
    "# Calculation through proper algebra\n",
    "y_condition = 0.5  # To condition on y = 0.5\n",
    "mean_xgiveny = mean_x1 + (sigma_12 * (1/sigma_22) * (y_condition - mean_x2))\n",
    "cov_xgiveny = sigma_11 - sigma_12 * (1/sigma_22) * sigma_12\n",
    "\n",
    "# Numerical estimate\n",
    "px_giveny = scipy.stats.multivariate_normal(mean_xgiveny , cov_xgiveny)\n",
    "plt.plot(x, px_giveny.pdf(x), label='Formula')  # y=0.5\n",
    "\n",
    "plt.plot(x, n_2d.pdf(pos)[yid, :] / (n_2d.pdf(pos).sum(axis=1)[yid] * step ), label='Definition') # Note the renormalisation by p(y) at y=yid\n",
    "plt.title(\"Conditional PDF: p(x|y=0.5) \")\n",
    "plt.legend()"
   ]
  },
  {
   "cell_type": "markdown",
   "metadata": {},
   "source": [
    "#### Supplementary exercise: \n",
    "\n",
    "- Check that the conditional and marginal distribution are effectively pdf, namely that their integral equals 1. \n",
    "- Calculate p(y | x=1.0) "
   ]
  },
  {
   "cell_type": "markdown",
   "metadata": {},
   "source": [
    "### I.5 What is a cumulative distribution function ? \n",
    "\n",
    "\n",
    "The *integral of a pdf* is called **cumulative distribution function**. \n",
    "$$\n",
    "p(X \\leq x) = H(x) = \\int_{-\\infty}^{x}\\, h(x') \\, {\\rm d}x'\n",
    "$$\n",
    "\n",
    "Obviously/by definition, we have that the integral of H(x) (i.e. between $-\\infty$ and $+\\infty$) is equal to 1.   \n",
    "\n",
    "Let's visualise the CDF $H(x_0) = p(X \\leq x_0)$, in the case of a gaussian PDF. We see that this is the area below the PDF between $-\\infty$ and $x_0$.    "
   ]
  },
  {
   "cell_type": "code",
   "execution_count": 10,
   "metadata": {},
   "outputs": [
    {
     "data": {
      "text/plain": [
       "Text(-1.6, 0.1, '$H(x_0) = p(X \\\\leq x_0)$')"
      ]
     },
     "execution_count": 10,
     "metadata": {},
     "output_type": "execute_result"
    },
    {
     "data": {
      "image/png": "[encoded data removed]",
      "text/plain": [
       "<Figure size 720x360 with 1 Axes>"
      ]
     },
     "metadata": {
      "needs_background": "light"
     },
     "output_type": "display_data"
    }
   ],
   "source": [
    "x = np.arange(-6,6,0.01)\n",
    "x0 = 1.   # let's take x0 = 1 \n",
    "id_x0 = np.searchsorted(x, x0)\n",
    "g = scipy.stats.norm(loc=0, scale=1)\n",
    "f, ax = plt.subplots(ncols=1, figsize=(10, 5))\n",
    "ax.plot(x, g.pdf(x), color='black', lw=2)\n",
    "ax.vlines(x0, 0, g.pdf(x0), color='red', lw=3)\n",
    "ax.fill_between(x[:id_x0], 0, g.pdf(x[:id_x0]), color='orange', alpha=0.6)\n",
    "ax.set_ylabel('h(x)', size=16)\n",
    "ax.set_xlabel('x', size=16)\n",
    "ax.text(0.7, -0.02, r'$x_0$', size=14, color='red')\n",
    "ax.text(-1.6, 0.1, r'$H(x_0) = p(X \\leq x_0)$', size=13)"
   ]
  },
  {
   "cell_type": "markdown",
   "metadata": {},
   "source": [
    "The CDF provides a direct way to calculate the probability for the value of a random variable $X$ to be between 2 values $x_1$ and $x_2$. If $x_1 < x_2$, then $P(x_1 < X < x_2) = H(x_2) - H(x_1)$. On the above figure, this would be the difference of area up to $x_2$ minus the area up to $x_1$.   \n",
    "\n",
    "Hence, you know how to derive the *p% quantile* of a distribution. $q_p$ defined as:\n",
    "\n",
    "$$\n",
    "\\frac{p}{100} = \\int_{-\\infty}^{q_p} h(x) dx\n",
    "$$\n",
    "\n",
    "$q_{25}$, $q_{50}$ and $q_{75}$ are commonly called the first, second and third *quartile* or 25 / 50 / 75 *percentile* of the distribution. $q_{75} - q_{25}$ is called *interquartile range* and provides a robust estimate of the width of a distribution. By definition, the *interquartile range* contains 50% of the surface behind the CDF / PDF and hence 0.5 of the probability (centered on the median). We will see later how to use percentiles to calculate confidence intervals. \n",
    "\n",
    "Note that *lowercase* letters are used for probability density (differential distribution) functions (pdf), and upper case for their cumulative counterpart (CDF).\n",
    "\n",
    "**Example**:\n",
    "\n",
    "An important CDF is the one of the gaussian distribution:\n",
    "\n",
    "$$\n",
    "H(x\\,|\\,\\mu, \\sigma) = \\frac{1}{\\sqrt{2\\pi}\\,\\sigma} ~ \\int_{-\\infty}^{x} \\exp \\left( -\\frac{1}{2}\\frac{(x'-\\mu)^2}{\\sigma^2}\\right) {\\rm d}x'. \n",
    "$$\n",
    "\n",
    "This function is generally evaluated in terms of what is called the *Gauss error function* :   \n",
    "$$\n",
    "\\rm{erf}(z) = \\frac{2}{\\sqrt{\\pi}}~\\int_0^z \\exp(-t^2)\\,{\\rm{d}}t.\n",
    "$$\n",
    "\n",
    "This function can be evaluated using `scipy.special.erf()`. \n",
    "\n",
    "Using the error function, the CDF of a Gaussian distribution can be re-written:\n",
    "\n",
    "$$\n",
    "H(x\\,|\\,\\mu, \\sigma) = \\frac{1}{2}~\\left( 1 \\pm \\rm{erf} \\left( \\frac{|x-\\mu|}{\\sqrt{2}\\sigma} \\right)  \\right),\n",
    "$$\n",
    "\n",
    "with \"+\" sign if $x > \\mu$, and \"-\" sign if $x<\\mu$. "
   ]
  },
  {
   "cell_type": "code",
   "execution_count": 11,
   "metadata": {},
   "outputs": [
    {
     "data": {
      "text/plain": [
       "<matplotlib.collections.LineCollection at 0x1837b5cd0>"
      ]
     },
     "execution_count": 11,
     "metadata": {},
     "output_type": "execute_result"
    },
    {
     "data": {
      "image/png": "[encoded data removed]",
      "text/plain": [
       "<Figure size 432x288 with 1 Axes>"
      ]
     },
     "metadata": {
      "needs_background": "light"
     },
     "output_type": "display_data"
    }
   ],
   "source": [
    "# CDF of a gaussian\n",
    "f, ax = plt.subplots(nrows=1)\n",
    "n = scipy.stats.norm(0, 1)\n",
    "x=np.linspace(-5,5, 100)\n",
    "g_cdf = n.cdf(x)\n",
    "ax.plot(x, g_cdf, lw=1, color=\"blue\")\n",
    "ax.vlines(0, 0,0.5)"
   ]
  },
  {
   "cell_type": "markdown",
   "metadata": {},
   "source": [
    "*How to read up the percentile / probability from the CDF in python ?*\n",
    "\n",
    "If you want to know for which value of $x$ we have a given probability/percentile, you may use the \"percent point function\" or `ppf` (i.e. the inverse of the `cdf`). To know for which $x$ one gets a specific $q$ ($0 < q < 1$), you may use the command: `scipy.stats.distrib.ppf(q)`  (replace `distrib` by the name of the distribution you are interested in). "
   ]
  },
  {
   "cell_type": "code",
   "execution_count": null,
   "metadata": {},
   "outputs": [],
   "source": [
    "# Example: For canonical gaussian, find x0 corresponding to q_20 (i.e. p(X<x0) = 0.2) \n"
   ]
  },
  {
   "cell_type": "code",
   "execution_count": null,
   "metadata": {},
   "outputs": [],
   "source": []
  },
  {
   "cell_type": "code",
   "execution_count": null,
   "metadata": {},
   "outputs": [],
   "source": []
  },
  {
   "cell_type": "code",
   "execution_count": null,
   "metadata": {},
   "outputs": [],
   "source": []
  },
  {
   "cell_type": "code",
   "execution_count": null,
   "metadata": {},
   "outputs": [],
   "source": []
  },
  {
   "cell_type": "markdown",
   "metadata": {},
   "source": [
    "### I.6 Working with pdf and CDF \n",
    "\n",
    "In scipy.stats, there are classes for many distributions, which have methods that can very useful to study pdf! "
   ]
  },
  {
   "cell_type": "markdown",
   "metadata": {
    "tags": []
   },
   "source": [
    "#### I.6.1 Generate random samples / Monte-Carlo methods: \n",
    "\n",
    "It is common in science that you will have to *simulate* data, either to test an algorithm that you have written (e.g. to automatically identify a specific type of objects in an image, to test the ability of your code to detect a weak signal when the signal to noise is small, ...), or to study data errors.        \n",
    "\n",
    "Let's first see how to generate samples in such a way that their distribution follow a known distribution (check [Descriptive_statistics_02.ipynb](../03-Basic_statistics_and_proba_concepts/Descriptive_statistics_02.ipynb) for an overview of common PDF encountered in science). The distributions in `scipy.stats` (e.g. `scipy.stats.norm` or `scipy.stats.uniform`) each have a method called `rvs` which implements a pseudo random sample from the distribution. This is extremely useful if you want to generate synthetic data (also called \"mock data\") that follow a specific distribution. This can e.g. be used to generate noise following a specific distribution to be added onto a synthetic data set. \n",
    "\n",
    "Here is an example generating a mock sample drawn from a uniform distribution:\n",
    "\n",
    "$$\n",
    "p(x \\, | \\, \\mu, W) = \\frac{1}{W} ~ \\mathrm{for}~|x-\\mu| \\leq \\frac{W}{2}, ~\\mathrm{and~0~otherwise}\n",
    "$$"
   ]
  },
  {
   "cell_type": "code",
   "execution_count": null,
   "metadata": {
    "tags": []
   },
   "outputs": [],
   "source": [
    "uni = scipy.stats.uniform(10, 5)   # First argument, i.e. 10, is the left edge, second is width\n",
    "uni_sample = uni.rvs(1000)\n",
    "qq = plt.hist(uni_sample, bins=20, color='blue', alpha=0.2, density=True)\n",
    "plt.xlabel('x')\n",
    "plt.ylabel(r'$p(x) \\rm{d}x$')"
   ]
  },
  {
   "cell_type": "markdown",
   "metadata": {},
   "source": [
    "**Question** Do you understand the values on $y$ scale ? "
   ]
  },
  {
   "cell_type": "code",
   "execution_count": null,
   "metadata": {},
   "outputs": [],
   "source": [
    "# Try to generate a random sample drawn from a bivariate Gaussian distribution (cf I.4b)"
   ]
  },
  {
   "cell_type": "markdown",
   "metadata": {},
   "source": [
    "#### I.6.2 Fit for parameters of specific distributions:\n",
    "\n",
    "The fit of the parameters of a distribution only works for for continuous distributions (i.e. it does not work for discrete distributions). "
   ]
  },
  {
   "cell_type": "code",
   "execution_count": null,
   "metadata": {},
   "outputs": [],
   "source": [
    "# Let's create an instance of a normal distribution with (mu, sigma) = (2, 4) \n",
    "n = scipy.stats.norm(2, 4)   # THis create an instance of a normal distribution with (mu, sigma) = (2, 4)"
   ]
  },
  {
   "cell_type": "code",
   "execution_count": null,
   "metadata": {},
   "outputs": [],
   "source": [
    "## let's generate a random sample drawn from that distribution and fit a notmal distribution on it\n",
    "\n",
    "# Let's create a fake sample of 1000 data points drawn from a notmal distribution \n",
    "# instead you could read a data file with the sample you want to analyse \n",
    "#sample = np.random.normal( 2, 4, 1000)   \n",
    "sample = n.rvs(1000)\n",
    "# Let's visualise the histogram with our data sample \n",
    "mydata_hist = plt.hist(sample, bins=20, color='blue', alpha=0.2, density=True)"
   ]
  },
  {
   "cell_type": "code",
   "execution_count": null,
   "metadata": {},
   "outputs": [],
   "source": [
    "# Now, we FIT a normal PDF on the distribution of data points   \n",
    "fitpdf_mean, fitpdf_sigma = scipy.stats.norm.fit(sample)   \n",
    "\n",
    "# Let's plot (again) the histogram of the data \n",
    "mydata_hist = plt.hist(sample, bins=20, color='blue', alpha=0.2, density=True)\n",
    "# Let's now plot the data histogram and overplot in red the gaussian PDF we fitted above\n",
    "x = np.linspace(-20, 20, 200)  # Grid over which I want to evaluate the fitted PDF\n",
    "norm_fit = scipy.stats.norm(fitpdf_mean, fitpdf_sigma)   # Let's generate an instance of the fitted gaussian distribution\n",
    "plt.plot(x, norm_fit.pdf(x), color='red')  # norm_fit.pdf(x): evaluate the pdf of the fitted pdf at x\n",
    "\n",
    "# Let's visualise the fitted parameters of the fitted PDF\n",
    "print(\"The fit parameter for the mean of the distribution is: %.4f\"%fitpdf_mean)\n",
    "print(\"The fit parameter for the standard deviation of the distribution is: %.4f\"%fitpdf_sigma)"
   ]
  },
  {
   "cell_type": "markdown",
   "metadata": {},
   "source": [
    "#### I.6.3 Calculate statistical quantities associated to a distribution "
   ]
  },
  {
   "cell_type": "markdown",
   "metadata": {},
   "source": [
    "You can also calculate various statistics associated to your function such as the mean, median, standard deviation, central moments, ... (see [Descriptive_statistics_01.ipynb](../03-Basic_statistics_and_proba_concepts/Descriptive_statistics_01.ipynb) for a recap of the definition of those quantities)"
   ]
  },
  {
   "cell_type": "code",
   "execution_count": null,
   "metadata": {},
   "outputs": [],
   "source": [
    "# Let's take a canonical normal distribution with (mu, sigma) = (0,1)\n",
    "n = scipy.stats.norm(0, 1)\n",
    "print('Mean = %.2f  ' %n.mean() )\n",
    "print('Median = %.2f  ' %n.median() )\n",
    "print('Stdev = %.2f  ' %n.std() )\n",
    "print('Central moment of order 4 = %.2f' %n.moment(4) )"
   ]
  },
  {
   "cell_type": "markdown",
   "metadata": {},
   "source": [
    "You can also calculate the $p$ percentile of a function or \"percent point function\" or ppf (i.e. the inverse of the cdf): `scipy.stats.distrib.ppf(q)` "
   ]
  },
  {
   "cell_type": "code",
   "execution_count": null,
   "metadata": {},
   "outputs": [],
   "source": [
    "print('q_25 and q_75 are %.3f , %.3f' %(n.ppf(0.25), n.ppf(0.75)) )\n",
    "print('The interquartile range is %.3f' % (n.ppf(0.75)- n.ppf(0.25)) )"
   ]
  },
  {
   "cell_type": "markdown",
   "metadata": {},
   "source": [
    "Let's visualise what is this inter-quartile range. *Look at the code and figure* to ensure that you understand the relation between `ppf`, `cdf` and `pdf`."
   ]
  },
  {
   "cell_type": "code",
   "execution_count": null,
   "metadata": {},
   "outputs": [],
   "source": [
    "f, ax = plt.subplots(nrows=2, figsize=(5,8))\n",
    "x = np.arange(-6,6,0.1)\n",
    "ax[0].set_title('CDF')\n",
    "ax[0].plot(x, n.cdf(x))\n",
    "\n",
    "# The ppf is inverse of CDF => reads the function from y axis\n",
    "# Draws 2 arrows from y=0.25 and y=0.75.  \n",
    "# Definition of ax.arrow(): ax.arrow(x, y, dx, dy) \n",
    "ax[0].arrow(-6, 0.25, n.ppf(0.25)+6, 0., width=0.01, length_includes_head=True, head_length=0.4)\n",
    "ax[0].arrow(-6, 0.75, n.ppf(0.75)+6, 0., width=0.01, length_includes_head=True, head_length=0.4)\n",
    "ax[0].text(-6, 0.27, '0.25')\n",
    "ax[0].text(-6, 0.77, '0.75')\n",
    "\n",
    "# The ppf returns the x for which cdf(x = q_{25}) = 0.25 and  cdf(x = q_{75}) = 0.75 \n",
    "q25, q75 = n.ppf(0.25), n.ppf(0.75)\n",
    "id25, id75 = np.searchsorted(x, q25), np.searchsorted(x, q75)  \n",
    "ax[0].arrow(n.ppf(0.25), 0.25, 0, -0.25, width=0.01, length_includes_head=True, head_width=0.3, head_length=0.03)\n",
    "ax[0].arrow(n.ppf(0.75), 0.75, 0, -0.75, width=0.01, length_includes_head=True, head_width=0.3, head_length=0.03)\n",
    "ax[0].text(0.54, -0.04, '$q_{75}$', color='red' )\n",
    "ax[0].text(-0.94, -0.04, '$q_{25}$', color='red' )\n",
    "ax[0].fill_between(x[id25:id75], n.cdf(x[id25:id75]), 0, color='orange', alpha=0.6)\n",
    "\n",
    "ax[0].set_ylabel('$p(<x)$')\n",
    "\n",
    "ax[1].plot(x, n.pdf(x))\n",
    "ax[1].set_title('PDF')\n",
    "ax[1].set_xlabel('x')\n",
    "\n",
    "# Let's plot 2 vertical line and color the area corresponding to the interquartile \n",
    "ax[1].vlines(q25, 0, n.pdf(q25))\n",
    "ax[1].vlines(q75, 0, n.pdf(q75))\n",
    "ax[1].fill_between(x[id25:id75], n.pdf(x[id25:id75]), 0, color='orange', alpha=0.6)\n",
    "\n",
    "qq = [ax[i].set_xlim(-6,6) for i in range(2)]\n",
    "ax[0].set_ylim(0,1)\n",
    "ax[1].set_ylim(0,0.5)"
   ]
  },
  {
   "cell_type": "markdown",
   "metadata": {},
   "source": [
    "The region delimited by the 2 vertical black lines on the bottom pannel corresponds to the interquartile range. The orange area covered in the pdf is 50% of the surface covered by the PDF, which means that 50% of the total probability is in that range. The $q_{25}, q_{50}, q_{75}$ quartiles divide the sample into 4 equally probable samples. There is 25% probability for a value $X$ to be $X < q_{25}$, or 25% probability for a value $X$ to be $X > q_{75}$. "
   ]
  },
  {
   "cell_type": "markdown",
   "metadata": {},
   "source": [
    "#### Supplementary exercise\n",
    "\n",
    "Noting, from the definition of the CDF, that:    \n",
    "\n",
    "$$\n",
    "p(a < x < b\\,| \\,\\mu, \\sigma) = P(b \\, | \\,\\mu, \\sigma)-P(a \\,| \\, \\mu, \\sigma)\n",
    "$$\n",
    "\n",
    "Verify that, for a Gaussian distribution, we have the following probabilities:\n",
    "- $p(\\mu - 1\\,\\sigma < x < \\mu + 1 \\, \\sigma) = 0.6827$\n",
    "- $p(\\mu - 2\\,\\sigma < x < \\mu + 2 \\, \\sigma) = 0.9545$\n",
    "- $p(\\mu - 3\\,\\sigma < x < \\mu + 3 \\, \\sigma) = 0.9973$\n",
    "\n",
    "Make your calculation with `scipy.ppf` or using the `scipy.erf`. "
   ]
  },
  {
   "cell_type": "code",
   "execution_count": null,
   "metadata": {},
   "outputs": [],
   "source": []
  },
  {
   "cell_type": "markdown",
   "metadata": {},
   "source": [
    "## Intermezo: Descriptive statistics\n",
    "\n",
    "This section is *not* mandatory if you fulfill the prerequisite for this course. However, if you do not feel confortable with the concepts we have reviewed above, consider runing the following notebooks:     \n",
    "\n",
    "- To review the **properties of probability distribution functions** (mean, standard deviation, variance, skewness, ...), go to the notebook [Descriptive_statistics_01.ipynb](Descriptive_statistics_01.ipynb).    \n",
    "\n",
    "- To **better understand visually the link between PDF and CDF**, and do an interactive tour of the characteristics and properties of **common distributions** encountered in science, then, run the Notebook [Descriptive_statistics_02.ipynb](Descriptive_statistics_02.ipynb). "
   ]
  },
  {
   "cell_type": "markdown",
   "metadata": {},
   "source": [
    "## Summary \n",
    "\n",
    "We have reviewed basic statistical concepts and quantities, and how to use them in python. In particular: \n",
    "- basic probability concepts: a sample, an event, a realisation, a conditional probability (i.e. $p(A|B)$ is probability of $A$ given $B$). \n",
    "- the probability combination rules. \n",
    "- what is a **random variable** (this is a key concept!), and how to generate and manipulate random variable with numpy: `np.random.rand()`, `np.random.seed(value)`, `np.random.RandomState(value)`, `np.random.randint()`, `np.random.permutation()`\n",
    "- Probability density function (pdf) and Cumulative density function (CDF) (You *need* to understand what are these functions very well !)\n",
    "- How to manipulate distributions with `scipy.stats`. For example, to work with a gaussian, and subsequently calculate pdf, cdf, ... drawn from a gaussian distribution, : `g = scipy.stats.norm()` followed by `g.pdf(x)` to get a pdf sampled for values x (single value or array), `g.cdf(x)` for the cdf(), ...\n",
    "- Bivariate PDF, marginal distribution and multivariate distributions\n",
    "- The expression of a multivariate normal distribution: beware of the defintion of the univariate and multivariate normal distrib. in scipy: use of the std in `scipy.stats.norm(mu, sig)` but of the covariance in `scipy.stats.multivariate_normal(mu, cov)`\n",
    "- How to calculate an interquartile range based on the cdf of a function, using the inverse of a cdf, the ppf of percent point function (`scipy.stats.mydistribution.ppf()`). "
   ]
  },
  {
   "cell_type": "markdown",
   "metadata": {},
   "source": [
    "## X. References and supplementary material: <a class=\"anchor\" id=\"X\"></a>\n",
    "\n",
    "* **Chapter 1** (1.2), **Chapter 3** (3.1, 3.2) and **Chapter 4** (4.1 to 4.3) of the book <a class=\"anchor\" id=\"book\"></a> *Statistics, data mining and Machine learning in astronomy* by Z. Ivezic et al. in Princeton Series in Modern Astronomy. \n",
    "\n",
    "* Youtube video about Random variable and PDF: https://www.youtube.com/watch?v=9KVR1hJ8SxI : First 7 minutes\n",
    "* Youtube video about CDF and its link to PDF: https://www.youtube.com/watch?v=4BswLMKgXzU : First 6 minutes\n",
    "\n",
    "* *All of statistics: a concise course in statistical inference*, Wasserman 2004  <a class=\"anchor\" id=\"WAS04\"></a>(see also errata in http://www.stat.cmu.edu/~larry/all-of-statistics/) and personal notes from \"Telmo Correa\" here https://github.com/telmo-correa/all-of-statistics/tree/master.  \n",
    "\n",
    "* *Statistics in theory and Practice*, Lupton 1993 <a class=\"anchor\" id=\"LUP93\"></a>: **Chapter 2**\n",
    "\n",
    "* [Numerical recipes](http://www2.units.it/ipl/students_area/imm2/files/Numerical_Recipes.pdf) by Press et al. Cambridge University press: **Chapter 15**, **Chapter 18.7** \n",
    "\n"
   ]
  },
  {
   "cell_type": "code",
   "execution_count": null,
   "metadata": {},
   "outputs": [],
   "source": []
  }
 ],
 "metadata": {
  "anaconda-cloud": {},
  "kernelspec": {
   "display_name": "Python [conda env:py3_lectures]",
   "language": "python",
   "name": "conda-env-py3_lectures-py"
  },
  "language_info": {
   "codemirror_mode": {
    "name": "ipython",
    "version": 3
   },
   "file_extension": ".py",
   "mimetype": "text/x-python",
   "name": "python",
   "nbconvert_exporter": "python",
   "pygments_lexer": "ipython3",
   "version": "3.7.11"
  }
 },
 "nbformat": 4,
 "nbformat_minor": 4
}
